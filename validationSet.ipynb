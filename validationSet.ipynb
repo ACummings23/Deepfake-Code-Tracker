{
 "cells": [
  {
   "cell_type": "code",
   "execution_count": null,
   "metadata": {},
   "outputs": [],
   "source": []
  },
  {
   "cell_type": "code",
   "execution_count": 1,
   "metadata": {},
   "outputs": [],
   "source": [
    "import pandas as pd\n",
    "import numpy as np"
   ]
  },
  {
   "cell_type": "code",
   "execution_count": 2,
   "metadata": {},
   "outputs": [],
   "source": [
    "df_Input=pd.read_csv('/code/dataset/FakeAVCeleb/MergedMetadataLabeled.csv')\n"
   ]
  },
  {
   "cell_type": "code",
   "execution_count": 12,
   "metadata": {},
   "outputs": [],
   "source": [
    "df_Input=pd.read_csv('/code/dataset/FakeAVCeleb/MergedMetadataLabeled.csv')\n",
    "afr_df=df_Input[df_Input['race']=='African']\n",
    "non_afr_df=df_Input[df_Input['race']!='African']"
   ]
  },
  {
   "cell_type": "code",
   "execution_count": 22,
   "metadata": {},
   "outputs": [
    {
     "data": {
      "text/plain": [
       "8255"
      ]
     },
     "execution_count": 22,
     "metadata": {},
     "output_type": "execute_result"
    }
   ],
   "source": [
    "len(non_afr_df[non_afr_df['Audio_Label']==0])"
   ]
  },
  {
   "cell_type": "code",
   "execution_count": 24,
   "metadata": {},
   "outputs": [],
   "source": [
    "\n",
    "\n",
    "\n",
    "\n"
   ]
  },
  {
   "cell_type": "code",
   "execution_count": 17,
   "metadata": {},
   "outputs": [
    {
     "data": {
      "text/plain": [
       "4097"
      ]
     },
     "execution_count": 17,
     "metadata": {},
     "output_type": "execute_result"
    }
   ],
   "source": [
    "len(afr_df)"
   ]
  },
  {
   "cell_type": "code",
   "execution_count": 4,
   "metadata": {},
   "outputs": [],
   "source": [
    "#dataset processing and splitting\n",
    "df_Input=pd.read_csv('/code/dataset/FakeAVCeleb/MergedMetadataLabeled.csv')\n",
    "df_Cut=df_Input[['source','wavLocation','race','gender','Audio_Label']]\n",
    "#dfCut2=dfInput[['wavLocation','Audio_Label','path']]\n",
    "#wavDir=dfCut2['wavLocation']\n",
    "#labelsdf=dfCut2[['wavLocation','Audio_Label']]\n",
    "df_Fake=df_Cut[df_Cut['Audio_Label']==1].reset_index(drop=True)\n",
    "df_Real=df_Cut[df_Cut['Audio_Label']==0].reset_index(drop=True)\n",
    "#dfTraining=pd.concat([dfReal[0:8000],dfFake[0:8000]]).reset_index(drop=True)\n",
    "#dfValidation=pd.concat([dfReal[8000:],dfFake[8000:]]).reset_index(drop=True)\n",
    "#labelsTrain=dfTraining['Audio_Label']\n",
    "#labelsVal=dfValidation['Audio_Label']"
   ]
  },
  {
   "cell_type": "code",
   "execution_count": null,
   "metadata": {},
   "outputs": [],
   "source": []
  },
  {
   "cell_type": "code",
   "execution_count": 5,
   "metadata": {},
   "outputs": [],
   "source": []
  },
  {
   "cell_type": "code",
   "execution_count": 9,
   "metadata": {},
   "outputs": [
    {
     "data": {
      "text/plain": [
       "10209"
      ]
     },
     "execution_count": 9,
     "metadata": {},
     "output_type": "execute_result"
    }
   ],
   "source": [
    "len(dfReal)"
   ]
  },
  {
   "cell_type": "code",
   "execution_count": 5,
   "metadata": {},
   "outputs": [],
   "source": [
    "\n",
    "training_ID_List=df_Real['source']\n",
    "training_ID_List=training_ID_List.drop_duplicates()"
   ]
  },
  {
   "cell_type": "code",
   "execution_count": null,
   "metadata": {},
   "outputs": [],
   "source": [
    "#dataset processing and splitting #1, split evenly between real and fake audio clips \n",
    "dfInput=pd.read_csv('/code/dataset/FakeAVCeleb/MergedMetadataLabeled.csv')\n",
    "dfCut=dfInput[['wavLocation','Audio_Label']]\n",
    "dfFake=dfCut[dfCut['Audio_Label']==1].reset_index(drop=True)\n",
    "dfReal=dfCut[dfCut['Audio_Label']==0].reset_index(drop=True)\n",
    "dfTraining=pd.concat([dfReal[0:8000],dfFake[0:8000]]).reset_index(drop=True)\n",
    "dfValidation=pd.concat([dfReal[8000:],dfFake[8000:]]).reset_index(drop=True)\n",
    "labelsTrain=dfTraining['Audio_Label']\n",
    "labelsVal=dfValidation['Audio_Label']"
   ]
  },
  {
   "cell_type": "code",
   "execution_count": 23,
   "metadata": {},
   "outputs": [],
   "source": [
    "\n",
    "\n",
    "\n",
    "VOICE_TRAIN=pd.DataFrame(columns=['source','wavLocation','Audio_Label'])\n",
    "trainListRealCUT=training_ID_List[0:395]\n",
    "for i in range(0,len(trainListRealCUT)):\n",
    "    tempdf=dfReal[dfReal['source']==trainListRealCUT[i]]\n",
    "    VOICE_TRAIN=pd.concat([VOICETRAIN,tempdf])\n"
   ]
  },
  {
   "cell_type": "code",
   "execution_count": 25,
   "metadata": {},
   "outputs": [
    {
     "data": {
      "text/html": [
       "<div>\n",
       "<style scoped>\n",
       "    .dataframe tbody tr th:only-of-type {\n",
       "        vertical-align: middle;\n",
       "    }\n",
       "\n",
       "    .dataframe tbody tr th {\n",
       "        vertical-align: top;\n",
       "    }\n",
       "\n",
       "    .dataframe thead th {\n",
       "        text-align: right;\n",
       "    }\n",
       "</style>\n",
       "<table border=\"1\" class=\"dataframe\">\n",
       "  <thead>\n",
       "    <tr style=\"text-align: right;\">\n",
       "      <th></th>\n",
       "      <th>source</th>\n",
       "      <th>wavLocation</th>\n",
       "      <th>Audio_Label</th>\n",
       "    </tr>\n",
       "  </thead>\n",
       "  <tbody>\n",
       "    <tr>\n",
       "      <th>0</th>\n",
       "      <td>id00076</td>\n",
       "      <td>/code/dataset/FakeAVCeleb/RealVideo-RealAudio/...</td>\n",
       "      <td>0</td>\n",
       "    </tr>\n",
       "    <tr>\n",
       "      <th>881</th>\n",
       "      <td>id00076</td>\n",
       "      <td>/code/dataset/FakeAVCeleb/FakeVideo-RealAudio/...</td>\n",
       "      <td>0</td>\n",
       "    </tr>\n",
       "    <tr>\n",
       "      <th>882</th>\n",
       "      <td>id00076</td>\n",
       "      <td>/code/dataset/FakeAVCeleb/FakeVideo-RealAudio/...</td>\n",
       "      <td>0</td>\n",
       "    </tr>\n",
       "    <tr>\n",
       "      <th>883</th>\n",
       "      <td>id00076</td>\n",
       "      <td>/code/dataset/FakeAVCeleb/FakeVideo-RealAudio/...</td>\n",
       "      <td>0</td>\n",
       "    </tr>\n",
       "    <tr>\n",
       "      <th>884</th>\n",
       "      <td>id00076</td>\n",
       "      <td>/code/dataset/FakeAVCeleb/FakeVideo-RealAudio/...</td>\n",
       "      <td>0</td>\n",
       "    </tr>\n",
       "    <tr>\n",
       "      <th>...</th>\n",
       "      <td>...</td>\n",
       "      <td>...</td>\n",
       "      <td>...</td>\n",
       "    </tr>\n",
       "    <tr>\n",
       "      <th>7113</th>\n",
       "      <td>id03651</td>\n",
       "      <td>/code/dataset/FakeAVCeleb/FakeVideo-RealAudio/...</td>\n",
       "      <td>0</td>\n",
       "    </tr>\n",
       "    <tr>\n",
       "      <th>7114</th>\n",
       "      <td>id03651</td>\n",
       "      <td>/code/dataset/FakeAVCeleb/FakeVideo-RealAudio/...</td>\n",
       "      <td>0</td>\n",
       "    </tr>\n",
       "    <tr>\n",
       "      <th>7115</th>\n",
       "      <td>id03651</td>\n",
       "      <td>/code/dataset/FakeAVCeleb/FakeVideo-RealAudio/...</td>\n",
       "      <td>0</td>\n",
       "    </tr>\n",
       "    <tr>\n",
       "      <th>7116</th>\n",
       "      <td>id03651</td>\n",
       "      <td>/code/dataset/FakeAVCeleb/FakeVideo-RealAudio/...</td>\n",
       "      <td>0</td>\n",
       "    </tr>\n",
       "    <tr>\n",
       "      <th>7117</th>\n",
       "      <td>id03651</td>\n",
       "      <td>/code/dataset/FakeAVCeleb/FakeVideo-RealAudio/...</td>\n",
       "      <td>0</td>\n",
       "    </tr>\n",
       "  </tbody>\n",
       "</table>\n",
       "<p>8044 rows × 3 columns</p>\n",
       "</div>"
      ],
      "text/plain": [
       "       source                                        wavLocation Audio_Label\n",
       "0     id00076  /code/dataset/FakeAVCeleb/RealVideo-RealAudio/...           0\n",
       "881   id00076  /code/dataset/FakeAVCeleb/FakeVideo-RealAudio/...           0\n",
       "882   id00076  /code/dataset/FakeAVCeleb/FakeVideo-RealAudio/...           0\n",
       "883   id00076  /code/dataset/FakeAVCeleb/FakeVideo-RealAudio/...           0\n",
       "884   id00076  /code/dataset/FakeAVCeleb/FakeVideo-RealAudio/...           0\n",
       "...       ...                                                ...         ...\n",
       "7113  id03651  /code/dataset/FakeAVCeleb/FakeVideo-RealAudio/...           0\n",
       "7114  id03651  /code/dataset/FakeAVCeleb/FakeVideo-RealAudio/...           0\n",
       "7115  id03651  /code/dataset/FakeAVCeleb/FakeVideo-RealAudio/...           0\n",
       "7116  id03651  /code/dataset/FakeAVCeleb/FakeVideo-RealAudio/...           0\n",
       "7117  id03651  /code/dataset/FakeAVCeleb/FakeVideo-RealAudio/...           0\n",
       "\n",
       "[8044 rows x 3 columns]"
      ]
     },
     "execution_count": 25,
     "metadata": {},
     "output_type": "execute_result"
    }
   ],
   "source": []
  },
  {
   "cell_type": "code",
   "execution_count": null,
   "metadata": {},
   "outputs": [],
   "source": [
    "pd.DataFrame(index=df_original.index,columns=df_original.columns)"
   ]
  },
  {
   "cell_type": "code",
   "execution_count": 1,
   "metadata": {},
   "outputs": [],
   "source": [
    "#####validation split #2: ensure that validation set only contains new voices, split arbitrarily across demographics\n",
    "\n"
   ]
  },
  {
   "cell_type": "code",
   "execution_count": null,
   "metadata": {},
   "outputs": [],
   "source": [
    "#####validation split #2: ensure that validation set only contains new voices, split arbitrarily across demographics\n",
    "#### function for matching entries with ids\n",
    "def New_Voice_Split(id_list,df_main):#input list of id's for training/validation sets as well as df that will be extracting entries from\n",
    "    voice_split_df=pd.DataFrame(index=df_main.index,columns=df_main.columns)\n",
    "    for i in range(0,len(voice_split_df)):\n",
    "        temp_df=df_main[df_main['source']==voice_split_df[i]]\n",
    "        voice_split_df=pd.concat([voice_split_df,temp_df])\n",
    "    return voice_split_df\n",
    "\n",
    "\n",
    "##### script for creating validation and training sets \n",
    "\n",
    "df_Input=pd.read_csv('/code/dataset/FakeAVCeleb/MergedMetadataLabeled.csv')\n",
    "df_Cut=df_Input[['source','wavLocation','race','gender','Audio_Label']]\n",
    "df_Fake=df_Cut[df_Cut['Audio_Label']==1].reset_index(drop=True)\n",
    "df_Real=df_Cut[df_Cut['Audio_Label']==0].reset_index(drop=True)\n",
    "training_ID_List=df_Real['source']\n",
    "train_ID_List=training_ID_List.drop_duplicates()\n",
    "train_ID_List=training_ID_List[0:395]\n",
    "df_Training=pd.concat([New_Voice_Split(train_ID_List,df_Real),New_Voice_Split(train_ID_List,df_Fake)]).reset_index(drop=True)\n",
    "df_Training.to_csv('/code/dataset/FakeAVCeleb/training_set_balance.csv')\n",
    "df_Validation_List=training_ID_List[395:]\n",
    "df_Validation=pd.concat([New_Voice_Split(df_Validation_List,df_Real),New_Voice_Split(df_Validation_List,df_Fake)]).reset_index(drop=True)\n",
    "df_Validation.to_csv('/code/dataset/FakeAVCeleb/validation_set_balance.csv')"
   ]
  },
  {
   "cell_type": "code",
   "execution_count": null,
   "metadata": {},
   "outputs": [],
   "source": [
    "####validation split #3, split data simply by removing the entire African demographic from training dataset, leaving us with a smaller validation set 4096 vs 4600\n",
    "df_Input=pd.read_csv('/code/dataset/FakeAVCeleb/MergedMetadataLabeled.csv')\n",
    "afr_df=df_Input[df_Input['race']=='African']\n",
    "non_afr_df=df_Input[df_Input['race']!='African']\n",
    "afr_df.to_csv('/code/dataset/FakeAVCeleb/afr_df_validation.csv')\n",
    "non_afr_df.to_csv('/code/dataset/FakeAVCeleb/non_afr_df_training.csv')"
   ]
  },
  {
   "cell_type": "code",
   "execution_count": 4,
   "metadata": {},
   "outputs": [],
   "source": [
    "#####validation split #2: ensure that validation set only contains new voices, split aribtrailiy across demographics\n",
    "\n",
    "VOICETRAINR=pd.DataFrame(columns=['source','wavLocation','Audio_Label'])\n",
    "trainListRealCUT=training_ID_List[0:395]\n",
    "for i in range(0,len(trainListRealCUT)):\n",
    "    temp_df=df_Real[df_Real['source']==trainListRealCUT[i]]\n",
    "    VOICETRAINR=pd.concat([VOICETRAINR,temp_df])\n",
    "\n",
    "VOICETRAINF=pd.DataFrame(columns=['source','wavLocation','Audio_Label'])\n",
    "for i in range(0,len(trainListRealCUT)):\n",
    "    temp_df=df_Fake[df_Fake['source']==trainListRealCUT[i]]\n",
    "    VOICETRAINF=pd.concat([VOICETRAINF,temp_df])\n",
    "df_Training=pd.concat([VOICETRAINR,VOICETRAINF]).reset_index(drop=True)\n",
    "df_Training.to_csv('/code/dataset/FakeAVCeleb/training_set_balance.csv')\n",
    "\n",
    "\n",
    "\n"
   ]
  },
  {
   "cell_type": "code",
   "execution_count": 6,
   "metadata": {},
   "outputs": [],
   "source": [
    "df_Training.to_csv('/code/dataset/FakeAVCeleb/training_set_balance.csv')"
   ]
  },
  {
   "cell_type": "code",
   "execution_count": 14,
   "metadata": {},
   "outputs": [
    {
     "data": {
      "text/plain": [
       "395    id03716\n",
       "396    id03816\n",
       "397    id03844\n",
       "398    id03858\n",
       "399    id03941\n",
       "        ...   \n",
       "495    id07136\n",
       "496    id07236\n",
       "497    id07377\n",
       "498    id07686\n",
       "499    id07689\n",
       "Name: source, Length: 105, dtype: object"
      ]
     },
     "execution_count": 14,
     "metadata": {},
     "output_type": "execute_result"
    }
   ],
   "source": [
    "training_ID_List[395:]"
   ]
  },
  {
   "cell_type": "code",
   "execution_count": 7,
   "metadata": {},
   "outputs": [],
   "source": [
    "VOICEVALR=pd.DataFrame(columns=['source','wavLocation','Audio_Label'])\n",
    "valCUT=training_ID_List[395:].reset_index(drop=True)\n",
    "for i in range(0,len(valCUT)):\n",
    "    temp_df=df_Real[df_Real['source']==valCUT[i]]\n",
    "    VOICEVALR=pd.concat([VOICEVALR,temp_df])\n",
    "VOICEVALF=pd.DataFrame(columns=['source','wavLocation','Audio_Label'])\n",
    "for i in range(0,len(valCUT)):\n",
    "    temp_df=df_Fake[df_Fake['source']==valCUT[i]]\n",
    "    VOICEVALF=pd.concat([VOICEVALF,temp_df])\n",
    "df_Validation=pd.concat([VOICEVALR,VOICEVALF]).reset_index(drop=True)\n",
    "df_Validation.to_csv('/code/dataset/FakeAVCeleb/validation_set_balance.csv')"
   ]
  },
  {
   "cell_type": "code",
   "execution_count": 8,
   "metadata": {},
   "outputs": [],
   "source": []
  }
 ],
 "metadata": {
  "kernelspec": {
   "display_name": "Python 3.9.2 64-bit",
   "language": "python",
   "name": "python3"
  },
  "language_info": {
   "codemirror_mode": {
    "name": "ipython",
    "version": 3
   },
   "file_extension": ".py",
   "mimetype": "text/x-python",
   "name": "python",
   "nbconvert_exporter": "python",
   "pygments_lexer": "ipython3",
   "version": "3.9.2"
  },
  "orig_nbformat": 4,
  "vscode": {
   "interpreter": {
    "hash": "31f2aee4e71d21fbe5cf8b01ff0e069b9275f58929596ceb00d14d90e3e16cd6"
   }
  }
 },
 "nbformat": 4,
 "nbformat_minor": 2
}
