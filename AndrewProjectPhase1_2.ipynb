{
 "cells": [
  {
   "cell_type": "code",
   "execution_count": null,
   "metadata": {},
   "outputs": [],
   "source": [
    "\n"
   ]
  },
  {
   "cell_type": "markdown",
   "metadata": {},
   "source": [
    "-Ingest and transform and split data"
   ]
  },
  {
   "cell_type": "code",
   "execution_count": 4,
   "metadata": {},
   "outputs": [],
   "source": [
    "\n",
    "import random\n",
    "import pathlib\n",
    "import itertools\n",
    "import collections\n",
    "\n",
    "import os\n",
    "import cv2\n",
    "import numpy as np\n",
    "import remotezip as rz\n",
    "import tensorflow as tf\n",
    "\n",
    "import imageio\n",
    "from IPython import display\n",
    "from urllib import request \n",
    "from tensorflow_docs.vis import embed\n",
    "\n"
   ]
  },
  {
   "cell_type": "code",
   "execution_count": 68,
   "metadata": {},
   "outputs": [],
   "source": [
    "import moviepy.editor as mp"
   ]
  },
  {
   "cell_type": "markdown",
   "metadata": {},
   "source": [
    "#we need to create list of all video files(done), and then label those video files(in progress), extract the .wav from each, then create training sets, "
   ]
  },
  {
   "cell_type": "code",
   "execution_count": 33,
   "metadata": {},
   "outputs": [],
   "source": [
    "\n",
    "#### function under construction, see directory creation below ####\n",
    "\n",
    "def dataDirectory(folder):\n",
    "    newDirectory=[]\n",
    "    for root, dirs, files in os.walk(folder):\n",
    "        for file in files:\n",
    "            if file.endswith('.mp4'):\n",
    "                newDirectory.append(file)\n",
    "    return newDirectory\n",
    "    \n"
   ]
  },
  {
   "cell_type": "code",
   "execution_count": 69,
   "metadata": {},
   "outputs": [],
   "source": [
    "#create directory of all fake files as well as list of all file names \n",
    "FakeFilesDirectory=[]\n",
    "FakeFilesNames=[]\n",
    "fakeFileLocation=[\"C:\\\\Users\\\\cumminan\\\\RealVideo-FakeAudio\"]\n",
    "for root, dirs, files in os.walk(r\"C:\\\\Users\\\\cumminan\\\\RealVideo-FakeAudio\"):\n",
    "    for file in files:\n",
    "        if file.endswith('.mp4'):\n",
    "            FakeFilesDirectory.append(os.path.join(root,file))\n",
    "            FakeFilesNames.append(file)\n",
    "\n"
   ]
  },
  {
   "cell_type": "code",
   "execution_count": 70,
   "metadata": {},
   "outputs": [],
   "source": [
    "#create directory of all real files as well as list of all file names\n",
    "RealFilesDirectory=[]\n",
    "RealFilesNames=[]\n",
    "realFileLocation=[\"C:\\\\Users\\\\cumminan\\\\RealVideo-FakeAudio\"]\n",
    "for root, dirs, files in os.walk(r\"C:\\\\Users\\\\cumminan\\\\OneDrive - WWT\\\\Desktop\\\\RealVideo-RealAudio\"):\n",
    "    for file in files:\n",
    "        if file.endswith('.mp4'):\n",
    "            RealFilesDirectory.append(os.path.join(root,file))\n",
    "            RealFilesNames.append(file)"
   ]
  },
  {
   "cell_type": "code",
   "execution_count": 62,
   "metadata": {},
   "outputs": [
    {
     "data": {
      "text/plain": [
       "'C:\\\\\\\\Users\\\\\\\\cumminan\\\\\\\\OneDrive - WWT\\\\\\\\Desktop\\\\\\\\RealVideo-RealAudio\\\\African\\\\men\\\\id00166\\\\00010.mp4'"
      ]
     },
     "execution_count": 62,
     "metadata": {},
     "output_type": "execute_result"
    }
   ],
   "source": [
    "#example of output\n",
    "RealFilesDirectory[1]"
   ]
  },
  {
   "cell_type": "code",
   "execution_count": 72,
   "metadata": {},
   "outputs": [],
   "source": [
    "#combine all video files\n",
    "FRFilesDirect=FakeFilesDirectory+RealFilesDirectory\n",
    "FRFilesNames=FakeFilesNames+RealFilesNames"
   ]
  },
  {
   "cell_type": "code",
   "execution_count": 41,
   "metadata": {},
   "outputs": [],
   "source": [
    "#create location for .wav files (necessary for data processing feeding into any model)\n",
    "\n",
    "directory='wavFiles'\n",
    "parent=\"C:\\\\Users\\\\cumminan\"\n",
    "path=os.path.join(parent,directory)\n",
    "os.mkdir(path)\n"
   ]
  },
  {
   "cell_type": "code",
   "execution_count": 78,
   "metadata": {},
   "outputs": [
    {
     "data": {
      "text/plain": [
       "'00109_fake.mp4'"
      ]
     },
     "execution_count": 78,
     "metadata": {},
     "output_type": "execute_result"
    }
   ],
   "source": [
    "#example of file names\n",
    "FRFilesNames[0]"
   ]
  },
  {
   "cell_type": "code",
   "execution_count": null,
   "metadata": {},
   "outputs": [],
   "source": []
  },
  {
   "cell_type": "code",
   "execution_count": 83,
   "metadata": {},
   "outputs": [],
   "source": [
    "\n",
    "WavFileNames=[]\n",
    "for root, dirs, files in os.walk(r\"C:\\\\Users\\\\cumminan\\\\wavFiles\"):\n",
    "    for file in files:\n",
    "            WavFileNames.append(file)"
   ]
  },
  {
   "cell_type": "code",
   "execution_count": 84,
   "metadata": {},
   "outputs": [
    {
     "data": {
      "text/plain": [
       "356"
      ]
     },
     "execution_count": 84,
     "metadata": {},
     "output_type": "execute_result"
    }
   ],
   "source": [
    "len(WavFileNames)"
   ]
  },
  {
   "cell_type": "code",
   "execution_count": 85,
   "metadata": {},
   "outputs": [],
   "source": [
    "def load_dataset(filenames):\n",
    "    dataset= tf.data.Dataset.from_tensor_slices(filenames)\n",
    "    return dataset"
   ]
  },
  {
   "cell_type": "code",
   "execution_count": null,
   "metadata": {},
   "outputs": [],
   "source": [
    "load_dataset(WavFilesNames)"
   ]
  },
  {
   "cell_type": "code",
   "execution_count": 87,
   "metadata": {},
   "outputs": [],
   "source": [
    "commands = np.array(tf.io.gfile.listdir(str(\"C:\\\\Users\\\\cumminan\\\\wavFiles\")))\n",
    "commands = commands[commands != 'README.md']"
   ]
  },
  {
   "cell_type": "code",
   "execution_count": 89,
   "metadata": {},
   "outputs": [],
   "source": [
    "def decode_audio(audio_binary):\n",
    "  audio, _ = tf.audio.decode_wav(audio_binary)\n",
    "  return tf.squeeze(audio, axis=-1)"
   ]
  },
  {
   "cell_type": "code",
   "execution_count": 88,
   "metadata": {},
   "outputs": [],
   "source": [
    "def get_label(filename):\n",
    "  if 'fake' in filename:\n",
    "    label=[1,0]\n",
    "  else:\n",
    "      label=[0,1]\n",
    "  return label"
   ]
  },
  {
   "cell_type": "code",
   "execution_count": 90,
   "metadata": {},
   "outputs": [],
   "source": [
    "def get_waveform_and_label(filename):\n",
    "  label = get_label(filename)\n",
    "  audio_binary = tf.io.read_file(filename)\n",
    "  waveform = decode_audio(audio_binary)\n",
    "  return waveform, label"
   ]
  },
  {
   "cell_type": "code",
   "execution_count": 91,
   "metadata": {},
   "outputs": [],
   "source": [
    "def get_spectrogram(waveform, padding=False, min_padding=48000):\n",
    "  waveform = tf.cast(waveform, tf.float32)\n",
    "  spectrogram = tf.signal.stft(waveform, frame_length=2048, frame_step=512, fft_length=2048)\n",
    "  spectrogram = tf.abs(spectrogram)\n",
    "  return spectrogram"
   ]
  },
  {
   "cell_type": "code",
   "execution_count": 92,
   "metadata": {},
   "outputs": [],
   "source": [
    "def get_spectrogram_tf(waveform, label):\n",
    "  spectrogram = get_spectrogram(waveform)\n",
    "  spectrogram = tf.expand_dims(spectrogram, axis=-1)\n",
    "  return spectrogram, label"
   ]
  },
  {
   "cell_type": "code",
   "execution_count": null,
   "metadata": {},
   "outputs": [],
   "source": [
    "#create .wav files and store them in create directory\n",
    "for i in range(0,len(FRFilesDirect)):\n",
    "    fileSource=FRFilesDirect[i]\n",
    "    clip=mp.VideoFileClip(fileSource)\n",
    "    clip.audio.write_audiofile(\"C:\\\\Users\\\\cumminan\\\\wavFiles\"+FRFilesNames[i]+'.wav')"
   ]
  },
  {
   "cell_type": "code",
   "execution_count": 93,
   "metadata": {},
   "outputs": [],
   "source": [
    "########functions to be used for efficientnetb0( under construction) #####\n",
    "\n",
    "\n",
    "\n",
    "\n",
    "def prepare_sample(spectrogram, label):\n",
    "  spectrogram = tf.image.resize(spectrogram, [HEIGHT, WIDTH])\n",
    "  spectrogram = tf.image.grayscale_to_rgb(spectrogram)\n",
    "  return spectrogram, label"
   ]
  },
  {
   "cell_type": "code",
   "execution_count": 94,
   "metadata": {},
   "outputs": [],
   "source": [
    "HEIGHT, WIDTH = 128, 128\n",
    "AUTO = tf.data.AUTOTUNE\n"
   ]
  },
  {
   "cell_type": "code",
   "execution_count": 96,
   "metadata": {},
   "outputs": [],
   "source": [
    "def get_dataset(filenames, batch_size=32):\n",
    "  dataset = load_dataset(filenames)\n",
    "    \n",
    "  dataset = files_ds.map(get_waveform_and_label, num_parallel_calls=AUTO)\n",
    "  dataset = dataset.map(get_spectrogram_tf, num_parallel_calls=AUTO)\n",
    "  dataset = dataset.map(prepare_sample, num_parallel_calls=AUTO)\n",
    "  dataset = dataset.shuffle(256)\n",
    "  dataset = dataset.repeat()\n",
    "  dataset = dataset.batch(batch_size)\n",
    "  dataset = dataset.prefetch(AUTO)\n",
    "  return dataset"
   ]
  },
  {
   "cell_type": "code",
   "execution_count": 97,
   "metadata": {},
   "outputs": [],
   "source": [
    "def model_fn(input_shape, N_CLASSES):\n",
    "  inputs = L.Input(shape=input_shape, name='input_audio')\n",
    "  base_model = efn.EfficientNetB0(input_tensor=inputs, \n",
    "                                  include_top=False, \n",
    "                                  weights='imagenet')\n",
    "\n",
    "  x = L.GlobalAveragePooling2D()(base_model.output)\n",
    "  x = L.Dropout(.5)(x)\n",
    "  output = L.Dense(N_CLASSES, activation='softmax',name='output')(x)\n",
    "    \n",
    "  model = Model(inputs=inputs, outputs=output)\n",
    "\n",
    "  return model"
   ]
  },
  {
   "cell_type": "code",
   "execution_count": null,
   "metadata": {},
   "outputs": [],
   "source": []
  },
  {
   "cell_type": "code",
   "execution_count": null,
   "metadata": {},
   "outputs": [],
   "source": []
  },
  {
   "cell_type": "code",
   "execution_count": null,
   "metadata": {},
   "outputs": [],
   "source": []
  }
 ],
 "metadata": {
  "kernelspec": {
   "display_name": "Python 3.9.7 64-bit",
   "language": "python",
   "name": "python3"
  },
  "language_info": {
   "codemirror_mode": {
    "name": "ipython",
    "version": 3
   },
   "file_extension": ".py",
   "mimetype": "text/x-python",
   "name": "python",
   "nbconvert_exporter": "python",
   "pygments_lexer": "ipython3",
   "version": "3.9.7"
  },
  "orig_nbformat": 4,
  "vscode": {
   "interpreter": {
    "hash": "ac49ffc323ec74e9fb780565cb6e8a3bb851ee98ce7c3b8672708a49357f557d"
   }
  }
 },
 "nbformat": 4,
 "nbformat_minor": 2
}
